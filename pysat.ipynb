{
 "cells": [
  {
   "attachments": {},
   "cell_type": "markdown",
   "metadata": {},
   "source": [
    "# Pysat para horarios escolares"
   ]
  },
  {
   "cell_type": "code",
   "execution_count": 3,
   "metadata": {},
   "outputs": [
    {
     "name": "stdout",
     "output_type": "stream",
     "text": [
      "Requirement already satisfied: python-sat in c:\\python311\\lib\\site-packages (0.1.8.dev3)\n",
      "Requirement already satisfied: six in c:\\users\\felip\\appdata\\roaming\\python\\python311\\site-packages (from python-sat) (1.16.0)\n",
      "Note: you may need to restart the kernel to use updated packages.\n"
     ]
    },
    {
     "name": "stderr",
     "output_type": "stream",
     "text": [
      "\n",
      "[notice] A new release of pip available: 22.3 -> 23.1.2\n",
      "[notice] To update, run: python.exe -m pip install --upgrade pip\n"
     ]
    },
    {
     "name": "stdout",
     "output_type": "stream",
     "text": [
      "Requirement already satisfied: matplotlib in c:\\python311\\lib\\site-packages (3.7.1)Note: you may need to restart the kernel to use updated packages.\n",
      "\n",
      "Requirement already satisfied: contourpy>=1.0.1 in c:\\python311\\lib\\site-packages (from matplotlib) (1.0.7)\n",
      "Requirement already satisfied: cycler>=0.10 in c:\\python311\\lib\\site-packages (from matplotlib) (0.11.0)\n",
      "Requirement already satisfied: fonttools>=4.22.0 in c:\\python311\\lib\\site-packages (from matplotlib) (4.39.4)\n",
      "Requirement already satisfied: kiwisolver>=1.0.1 in c:\\python311\\lib\\site-packages (from matplotlib) (1.4.4)\n",
      "Requirement already satisfied: numpy>=1.20 in c:\\python311\\lib\\site-packages (from matplotlib) (1.24.3)\n",
      "Requirement already satisfied: packaging>=20.0 in c:\\users\\felip\\appdata\\roaming\\python\\python311\\site-packages (from matplotlib) (23.1)\n",
      "Requirement already satisfied: pillow>=6.2.0 in c:\\python311\\lib\\site-packages (from matplotlib) (9.5.0)\n",
      "Requirement already satisfied: pyparsing>=2.3.1 in c:\\python311\\lib\\site-packages (from matplotlib) (3.0.9)\n",
      "Requirement already satisfied: python-dateutil>=2.7 in c:\\users\\felip\\appdata\\roaming\\python\\python311\\site-packages (from matplotlib) (2.8.2)\n",
      "Requirement already satisfied: six>=1.5 in c:\\users\\felip\\appdata\\roaming\\python\\python311\\site-packages (from python-dateutil>=2.7->matplotlib) (1.16.0)\n"
     ]
    },
    {
     "name": "stderr",
     "output_type": "stream",
     "text": [
      "\n",
      "[notice] A new release of pip available: 22.3 -> 23.1.2\n",
      "[notice] To update, run: python.exe -m pip install --upgrade pip\n"
     ]
    },
    {
     "name": "stdout",
     "output_type": "stream",
     "text": [
      "Note: you may need to restart the kernel to use updated packages.\n"
     ]
    },
    {
     "name": "stderr",
     "output_type": "stream",
     "text": [
      "ERROR: unknown command \"instal\" - maybe you meant \"install\"\n",
      "\n"
     ]
    }
   ],
   "source": [
    "%pip install python-sat\n",
    "%pip install matplotlib\n",
    "%pip instal pprint"
   ]
  },
  {
   "attachments": {},
   "cell_type": "markdown",
   "metadata": {},
   "source": [
    "### Função para montar a tabela:"
   ]
  },
  {
   "cell_type": "code",
   "execution_count": 4,
   "metadata": {},
   "outputs": [],
   "source": [
    "import matplotlib.pyplot as plt\n",
    "import numpy as np\n",
    "\n",
    "\n",
    "def plot_timetable(timetable, target_class):\n",
    "    fig, ax = plt.subplots(figsize=(10, 6))\n",
    "\n",
    "    # Set the title, x-axis labels, and y-axis labels\n",
    "    ax.set_title(f'Timetable for {target_class}')\n",
    "    ax.set_xticks(np.arange(len(days)))\n",
    "    ax.set_yticks(np.arange(len(hours)))\n",
    "    ax.set_xticklabels(days)\n",
    "    ax.set_yticklabels(hours)\n",
    "\n",
    "    # Create a grid to separate the cells\n",
    "    ax.set_xticks(np.arange(-0.5, len(days), 1), minor=True)\n",
    "    ax.set_yticks(np.arange(-0.5, len(hours), 1), minor=True)\n",
    "    ax.grid(which='minor', linestyle='-', linewidth=1)\n",
    "\n",
    "    # Loop through the timetable and display the subject and teacher for the target class\n",
    "    for item in timetable:\n",
    "        c, t, s, d, h = item\n",
    "        if c == target_class:\n",
    "            day_idx = days.index(d)\n",
    "            hour_idx = hours.index(h)\n",
    "            text = f\"{s}\\n{t}\"\n",
    "            ax.text(day_idx, hour_idx, text, ha='center', va='center', fontsize=10)\n",
    "\n",
    "    plt.show()"
   ]
  },
  {
   "cell_type": "code",
   "execution_count": null,
   "metadata": {},
   "outputs": [],
   "source": [
    "from pysat.formula import CNF\n",
    "from pysat.solvers import Solver\n",
    "from pprint import pprint\n",
    "\n",
    "# Input data\n",
    "classes = ['class1', 'class2', 'class3']\n",
    "teachers = ['teacher1', 'teacher2', 'teacher3']\n",
    "subjects = ['subject1', 'subject2', 'subject3', 'alg1', 'calc1', 'logica']\n",
    "days = ['mon', 'tue', 'wed', 'thu', 'fri']\n",
    "hours = ['7am', '8am', '9am', '10am', '11am']\n",
    "\n",
    "teacher_subjects = {\n",
    "    'teacher1': ['subject1', 'subject3', 'logica', 'calc1'],\n",
    "    'teacher2': ['subject2', 'subject3', 'alg1'],\n",
    "    'teacher3': ['subject1', 'subject2']\n",
    "}\n",
    "\n",
    "\n",
    "# Create variable map\n",
    "var_map = {}\n",
    "counter = 1\n",
    "for c in classes:\n",
    "    for t in teachers:\n",
    "        for s in subjects:\n",
    "            for d in days:\n",
    "                for h in hours:\n",
    "                    var_map[(c, t, s, d, h)] = counter\n",
    "                    counter += 1\n",
    "\n",
    "# Helper function to get variable id\n",
    "def var(c, t, s, d, h):\n",
    "    return var_map[(c, t, s, d, h)]\n",
    "\n",
    "# Initialize CNF formula\n",
    "cnf = CNF()\n",
    "\n",
    "# Constraint 1: Each class has exactly one subject at each time slot\n",
    "for c in classes:\n",
    "    for d in days:\n",
    "        for h in hours:\n",
    "            # At least one subject\n",
    "            cnf.append([var(c, t, s, d, h) for t in teachers for s in subjects])\n",
    "            # At most one subject\n",
    "            for s1 in subjects:\n",
    "                for s2 in subjects:\n",
    "                    if s1 != s2:\n",
    "                        for t in teachers:\n",
    "                            cnf.append([-var(c, t, s1, d, h), -var(c, t, s2, d, h)])\n",
    "\n",
    "# Constraint 2: Each teacher teaches at most one class at a time\n",
    "for t in teachers:\n",
    "    for d in days:\n",
    "        for h in hours:\n",
    "            for c1 in classes:\n",
    "                for c2 in classes:\n",
    "                    if c1 != c2:\n",
    "                        for s1 in subjects:\n",
    "                            for s2 in subjects:\n",
    "                                cnf.append([-var(c1, t, s1, d, h), -var(c2, t, s2, d, h)])\n",
    "\n",
    "\n",
    "\n",
    "# Constraint 3: Each teacher can only teach the subjects they are capable of teaching\n",
    "for c in classes:\n",
    "    for t in teachers:\n",
    "        for s in subjects:\n",
    "            if s not in teacher_subjects[t]:\n",
    "                for d in days:\n",
    "                    for h in hours:\n",
    "                        cnf.append([-var(c, t, s, d, h)])\n",
    "\n",
    "\n",
    "# Solve the CNF formula and visualize the timetable for each class\n",
    "with Solver(name='cd', bootstrap_with=cnf) as solver:\n",
    "    if solver.solve():\n",
    "        model = solver.get_model()\n",
    "        timetable = []\n",
    "        for c in classes:\n",
    "            for t in teachers:\n",
    "                for s in subjects:\n",
    "                    for d in days:\n",
    "                        for h in hours:\n",
    "                            if model[var(c, t, s, d, h) - 1] > 0:\n",
    "                                timetable.append((c, t, s, d, h))\n",
    "\n",
    "        # Generate a timetable for each class\n",
    "        for c in classes:\n",
    "            plot_timetable(timetable, c)\n",
    "    else:\n",
    "        print(\"No solution found\")\n"
   ]
  }
 ],
 "metadata": {
  "kernelspec": {
   "display_name": "Python 3",
   "language": "python",
   "name": "python3"
  },
  "language_info": {
   "codemirror_mode": {
    "name": "ipython",
    "version": 3
   },
   "file_extension": ".py",
   "mimetype": "text/x-python",
   "name": "python",
   "nbconvert_exporter": "python",
   "pygments_lexer": "ipython3",
   "version": "3.11.0"
  },
  "orig_nbformat": 4
 },
 "nbformat": 4,
 "nbformat_minor": 2
}
