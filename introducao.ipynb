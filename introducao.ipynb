{
 "cells": [
  {
   "attachments": {},
   "cell_type": "markdown",
   "metadata": {},
   "source": [
    "## Instalando as dependencias do programa\n",
    "- Pysat: Utilizado para importação das classes que vamos utilizar para resolver os problemas. Classes como CNF e Solvers\n",
    "- Matplotlib: Para plotar a tabela com solução\n",
    "- Pprint: facilitar depuração"
   ]
  },
  {
   "cell_type": "code",
   "execution_count": 5,
   "metadata": {},
   "outputs": [
    {
     "name": "stdout",
     "output_type": "stream",
     "text": [
      "Requirement already satisfied: python-sat in c:\\python311\\lib\\site-packages (0.1.8.dev3)\n",
      "Requirement already satisfied: six in c:\\users\\felip\\appdata\\roaming\\python\\python311\\site-packages (from python-sat) (1.16.0)\n",
      "Note: you may need to restart the kernel to use updated packages.\n"
     ]
    },
    {
     "name": "stderr",
     "output_type": "stream",
     "text": [
      "\n",
      "[notice] A new release of pip available: 22.3 -> 23.1.2\n",
      "[notice] To update, run: python.exe -m pip install --upgrade pip\n"
     ]
    },
    {
     "name": "stdout",
     "output_type": "stream",
     "text": [
      "Requirement already satisfied: matplotlib in c:\\python311\\lib\\site-packages (3.7.1)\n",
      "Requirement already satisfied: contourpy>=1.0.1 in c:\\python311\\lib\\site-packages (from matplotlib) (1.0.7)\n",
      "Requirement already satisfied: cycler>=0.10 in c:\\python311\\lib\\site-packages (from matplotlib) (0.11.0)\n",
      "Requirement already satisfied: fonttools>=4.22.0 in c:\\python311\\lib\\site-packages (from matplotlib) (4.39.4)\n",
      "Requirement already satisfied: kiwisolver>=1.0.1 in c:\\python311\\lib\\site-packages (from matplotlib) (1.4.4)\n",
      "Requirement already satisfied: numpy>=1.20 in c:\\python311\\lib\\site-packages (from matplotlib) (1.24.3)\n",
      "Requirement already satisfied: packaging>=20.0 in c:\\users\\felip\\appdata\\roaming\\python\\python311\\site-packages (from matplotlib) (23.1)\n",
      "Requirement already satisfied: pillow>=6.2.0 in c:\\python311\\lib\\site-packages (from matplotlib) (9.5.0)\n",
      "Requirement already satisfied: pyparsing>=2.3.1 in c:\\python311\\lib\\site-packages (from matplotlib) (3.0.9)\n",
      "Requirement already satisfied: python-dateutil>=2.7 in c:\\users\\felip\\appdata\\roaming\\python\\python311\\site-packages (from matplotlib) (2.8.2)\n",
      "Requirement already satisfied: six>=1.5 in c:\\users\\felip\\appdata\\roaming\\python\\python311\\site-packages (from python-dateutil>=2.7->matplotlib) (1.16.0)\n",
      "Note: you may need to restart the kernel to use updated packages.\n"
     ]
    },
    {
     "name": "stderr",
     "output_type": "stream",
     "text": [
      "\n",
      "[notice] A new release of pip available: 22.3 -> 23.1.2\n",
      "[notice] To update, run: python.exe -m pip install --upgrade pip\n"
     ]
    },
    {
     "name": "stdout",
     "output_type": "stream",
     "text": [
      "Note: you may need to restart the kernel to use updated packages.\n"
     ]
    },
    {
     "name": "stderr",
     "output_type": "stream",
     "text": [
      "ERROR: unknown command \"instal\" - maybe you meant \"install\"\n",
      "\n"
     ]
    }
   ],
   "source": [
    "%pip install python-sat\n",
    "%pip install matplotlib\n",
    "%pip instal pprint"
   ]
  },
  {
   "attachments": {},
   "cell_type": "markdown",
   "metadata": {},
   "source": [
    "## Forma normal conjuntiva\n",
    "    \n",
    "Para que possamos utilizar a biblioteca Pysat e suas classes de Solvers precisamos montar uma formula booleana que deve estar na forma normal conjuntiva (CNF). Isto é:\n",
    "- F e T são fórmulas na forma normal conjuntiva\n",
    "- Os literais p e ¬p são fórmulas na forma normal conjuntiva, onde p é uma variável da lógica proposicional.\n",
    "- Uma disjunção l1 ∨ l2 ∨ ... ∨ ln, onde cada li é um literal, é uma fórmula na forma normal conjuntiva. Dá-se o nome de cláusula a uma disjunção de literais.\n",
    "- Se p e q são duas fórmulas na forma normal conjuntiva, então p ∧ q é uma fórmula na forma normal conjuntiva. Uma fórmula na forma normal conjuntiva consiste de uma conjunção de cláusulas.\n"
   ]
  },
  {
   "cell_type": "code",
   "execution_count": 6,
   "metadata": {},
   "outputs": [],
   "source": [
    "from pysat.formula import CNF\n",
    "\n",
    "# Create a CNF formula\n",
    "formula = CNF()\n",
    "formula.append([1, 2, 3])  # (L1_1 || L1_2 || L1_3)\n",
    "formula.append([4, -3, 6])  # (L2_1 || L2_2 || L2_3)\n",
    "formula.append([7, 8, 9, 10, 11, -3])  # (L3_1 || L3_2 || L3_3)\n",
    "\n",
    "# Formula final fica assim:\n",
    "# (L1_1 || L1_2 || L1_3) && (L2_1 || L2_2 || L2_3) && (L3_1 || L3_2 || L3_3)"
   ]
  },
  {
   "attachments": {},
   "cell_type": "markdown",
   "metadata": {},
   "source": [
    "## Solvers\n",
    "Para encontrar a solução da formula, o pysat conta com uma serie de algoritmos euristicos. Que podem ser acessados na classe `Solver`.\n",
    "Atualmente (05/2023) o pysat conta com a seguinte lista de algoritmos implmentados:\n",
    "- CaDiCaL (rel-1.0.3)\n",
    "- Glucose (3.0)\n",
    "- Glucose (4.1)\n",
    "- Lingeling (bbc-9230380-160707)\n",
    "- MapleLCMDistChronoBT (SAT competition 2018 version)\n",
    "- MapleCM (SAT competition 2018 version)\n",
    "- Maplesat (MapleCOMSPS_LRB)\n",
    "- Mergesat (3.0)\n",
    "- Minicard (1.2)\n",
    "- Minisat (2.2 release)\n",
    "- Minisat (GitHub version)\n",
    "\n",
    "* Importante notar que a execução desses algoritmos acontece em C, não em python, garantindo uma execução rápida"
   ]
  },
  {
   "cell_type": "code",
   "execution_count": 7,
   "metadata": {},
   "outputs": [
    {
     "name": "stdout",
     "output_type": "stream",
     "text": [
      "Formula is satisfiable\n",
      "Satisfying assignment: [1, -2, -3, -4, -5, -6, -7, -8, -9, -10, -11]\n"
     ]
    }
   ],
   "source": [
    "from pysat.solvers import Solver\n",
    "\n",
    "# Create a solver instance\n",
    "solver = Solver()\n",
    "\n",
    "# Add the formula to the solver\n",
    "solver.append_formula(formula)\n",
    "\n",
    "# Solve the formula\n",
    "if solver.solve():\n",
    "    print(\"Formula is satisfiable\")\n",
    "    print(\"Satisfying assignment:\", solver.get_model())\n",
    "else:\n",
    "    print(\"Formula is unsatisfiable\")"
   ]
  },
  {
   "attachments": {},
   "cell_type": "markdown",
   "metadata": {},
   "source": [
    "Para trocar de solver, podemos importa-lo direto ou passar um parametro para a funçao solver:"
   ]
  },
  {
   "cell_type": "code",
   "execution_count": 8,
   "metadata": {},
   "outputs": [
    {
     "name": "stdout",
     "output_type": "stream",
     "text": [
      "Formula is satisfiable\n",
      "Satisfying assignment: [1, -2, -3, -4, -5, -6, -7, -8, -9, -10, -11]\n"
     ]
    }
   ],
   "source": [
    "from pysat.solvers import Glucose3\n",
    "\n",
    "# Create a solver instance\n",
    "glucose3 = Glucose3()\n",
    "\n",
    "# Add the formula to the solver\n",
    "glucose3.append_formula(formula)\n",
    "\n",
    "# Solve the formula\n",
    "if glucose3.solve():\n",
    "    print(\"Formula is satisfiable\")\n",
    "    print(\"Satisfying assignment:\", solver.get_model())\n",
    "else:\n",
    "    print(\"Formula is unsatisfiable\")"
   ]
  },
  {
   "cell_type": "code",
   "execution_count": 9,
   "metadata": {},
   "outputs": [
    {
     "name": "stdout",
     "output_type": "stream",
     "text": [
      "Formula is satisfiable\n",
      "Satisfying assignment: [1, -2, -3, -4, -5, -6, -7, -8, -9, -10, -11]\n"
     ]
    }
   ],
   "source": [
    "from pysat.solvers import Solver\n",
    "\n",
    "# Create a solver instance\n",
    "solver = Solver(name='g3')\n",
    "\n",
    "# Add the formula to the solver\n",
    "solver.append_formula(formula)\n",
    "\n",
    "# Solve the formula\n",
    "if solver.solve():\n",
    "    print(\"Formula is satisfiable\")\n",
    "    print(\"Satisfying assignment:\", solver.get_model())\n",
    "else:\n",
    "    print(\"Formula is unsatisfiable\")"
   ]
  }
 ],
 "metadata": {
  "kernelspec": {
   "display_name": "Python 3",
   "language": "python",
   "name": "python3"
  },
  "language_info": {
   "codemirror_mode": {
    "name": "ipython",
    "version": 3
   },
   "file_extension": ".py",
   "mimetype": "text/x-python",
   "name": "python",
   "nbconvert_exporter": "python",
   "pygments_lexer": "ipython3",
   "version": "3.11.0"
  },
  "orig_nbformat": 4
 },
 "nbformat": 4,
 "nbformat_minor": 2
}
